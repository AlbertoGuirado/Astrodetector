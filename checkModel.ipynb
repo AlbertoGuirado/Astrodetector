{
 "cells": [
  {
   "cell_type": "code",
   "execution_count": 144,
   "id": "e35b45f3",
   "metadata": {},
   "outputs": [
    {
     "name": "stdout",
     "output_type": "stream",
     "text": [
      "1/1 [==============================] - 0s 115ms/step\n",
      "[[0. 0. 0. 1.]]\n",
      "Clase predicha: 3\n",
      "Etiqueta correspondiente: NEBULA\n"
     ]
    }
   ],
   "source": [
    "import cv2\n",
    "import tensorflow as tf\n",
    "CATEGORIES = [\"CLUSTER\",\"GALAXY\", \"LENSE\", \"NEBULA\"]\n",
    "def prepare(file):\n",
    "    IMG_SIZE = 100 # MUST BE THE SAME AS THE MODEL\n",
    "    img_array = cv2.imread(file, cv2.IMREAD_GRAYSCALE)\n",
    "    new_array = cv2.resize(img_array, (IMG_SIZE, IMG_SIZE))\n",
    "    return new_array.reshape(-1, IMG_SIZE, IMG_SIZE, 1)\n",
    "\n",
    "model = tf.keras.models.load_model(\"ASTRODETECTOR.model\")\n",
    "\n",
    "pred = model.predict([prepare(\"nebula.jpg\")])\n",
    "predicted_class = tf.argmax(pred, axis=1).numpy()[0]\n",
    "predicted_label = CATEGORIES[predicted_class]\n",
    "print(pred)\n",
    "print(\"Predicted class:\", predicted_class)\n",
    "print(\"TYPE:\", predicted_label)"
   ]
  },
  {
   "cell_type": "code",
   "execution_count": 151,
   "id": "3f4874e5",
   "metadata": {},
   "outputs": [
    {
     "name": "stdout",
     "output_type": "stream",
     "text": [
      "1/1 [==============================] - 0s 37ms/step\n",
      "[[0. 0. 0. 1.]]\n",
      "Predicted class: 3\n",
      "TYPE: NEBULA\n"
     ]
    }
   ],
   "source": [
    "pred = model.predict([prepare(\"nebula2.jpg\")])\n",
    "predicted_class = tf.argmax(pred, axis=1).numpy()[0]\n",
    "predicted_label = CATEGORIES[predicted_class]\n",
    "print(pred)\n",
    "\n",
    "print(\"Predicted class:\", predicted_class)\n",
    "print(\"TYPE:\", predicted_label)"
   ]
  },
  {
   "cell_type": "code",
   "execution_count": 152,
   "id": "d3be5808",
   "metadata": {},
   "outputs": [
    {
     "name": "stdout",
     "output_type": "stream",
     "text": [
      "1/1 [==============================] - 0s 23ms/step\n",
      "[[1. 0. 0. 0.]]\n",
      "Predicted class: 0\n",
      "TYPE: CLUSTER\n"
     ]
    }
   ],
   "source": [
    "pred = model.predict([prepare(\"cluster.jpg\")])\n",
    "predicted_class = tf.argmax(pred, axis=1).numpy()[0]\n",
    "predicted_label = CATEGORIES[predicted_class]\n",
    "print(pred)\n",
    "print(\"Predicted class:\", predicted_class)\n",
    "print(\"TYPE:\", predicted_label)"
   ]
  },
  {
   "cell_type": "code",
   "execution_count": null,
   "id": "5d2aa378",
   "metadata": {},
   "outputs": [],
   "source": []
  },
  {
   "cell_type": "code",
   "execution_count": 161,
   "id": "ba77f507",
   "metadata": {},
   "outputs": [
    {
     "name": "stdout",
     "output_type": "stream",
     "text": [
      "1/1 [==============================] - 0s 21ms/step\n",
      "[[0. 0. 1. 0.]]\n",
      "Predicted class: 2\n",
      "TYPE: LENSE\n"
     ]
    }
   ],
   "source": [
    "pred = model.predict([prepare(\"lense4.jpg\")])\n",
    "predicted_class = tf.argmax(pred, axis=1).numpy()[0]\n",
    "predicted_label = CATEGORIES[predicted_class]\n",
    "print(pred)\n",
    "\n",
    "print(\"Predicted class:\", predicted_class)\n",
    "print(\"TYPE:\", predicted_label)"
   ]
  },
  {
   "cell_type": "code",
   "execution_count": 157,
   "id": "1300e135",
   "metadata": {},
   "outputs": [
    {
     "name": "stdout",
     "output_type": "stream",
     "text": [
      "1/1 [==============================] - 0s 18ms/step\n",
      "Predicted class: 2\n",
      "TYPE: LENSE\n"
     ]
    }
   ],
   "source": [
    "pred = model.predict([prepare(\"lense1.jpg\")])\n",
    "predicted_class = tf.argmax(pred, axis=1).numpy()[0]\n",
    "predicted_label = CATEGORIES[predicted_class]\n",
    "print(pred)\n",
    "print(\"Predicted class:\", predicted_class)\n",
    "print(\"TYPE:\", predicted_label)"
   ]
  },
  {
   "cell_type": "code",
   "execution_count": 163,
   "id": "b83c542a",
   "metadata": {},
   "outputs": [
    {
     "name": "stdout",
     "output_type": "stream",
     "text": [
      "1/1 [==============================] - 0s 19ms/step\n",
      "[[0. 0. 1. 0.]]\n",
      "Predicted class: 2\n",
      "TYPE: LENSE\n"
     ]
    }
   ],
   "source": [
    "pred = model.predict([prepare(\"galaxy2.jpg\")])\n",
    "predicted_class = tf.argmax(pred, axis=1).numpy()[0]\n",
    "predicted_label = CATEGORIES[predicted_class]\n",
    "print(pred)\n",
    "print(\"Predicted class:\", predicted_class)\n",
    "print(\"TYPE:\", predicted_label)"
   ]
  },
  {
   "cell_type": "code",
   "execution_count": null,
   "id": "34b9c891",
   "metadata": {},
   "outputs": [],
   "source": []
  },
  {
   "cell_type": "code",
   "execution_count": null,
   "id": "6aa55957",
   "metadata": {},
   "outputs": [],
   "source": []
  },
  {
   "cell_type": "code",
   "execution_count": null,
   "id": "ac59292a",
   "metadata": {},
   "outputs": [],
   "source": []
  },
  {
   "cell_type": "code",
   "execution_count": null,
   "id": "1eeca0d6",
   "metadata": {},
   "outputs": [],
   "source": []
  },
  {
   "cell_type": "code",
   "execution_count": null,
   "id": "431764ae",
   "metadata": {},
   "outputs": [],
   "source": []
  },
  {
   "cell_type": "code",
   "execution_count": null,
   "id": "1ba5926c",
   "metadata": {},
   "outputs": [],
   "source": []
  }
 ],
 "metadata": {
  "kernelspec": {
   "display_name": "Python 3 (ipykernel)",
   "language": "python",
   "name": "python3"
  },
  "language_info": {
   "codemirror_mode": {
    "name": "ipython",
    "version": 3
   },
   "file_extension": ".py",
   "mimetype": "text/x-python",
   "name": "python",
   "nbconvert_exporter": "python",
   "pygments_lexer": "ipython3",
   "version": "3.9.16"
  }
 },
 "nbformat": 4,
 "nbformat_minor": 5
}
